{
 "cells": [
  {
   "cell_type": "markdown",
   "id": "5ed019f6",
   "metadata": {},
   "source": [
    "# Stipple Tunes: Layla\n",
    "\n",
    "Put a stipple of Layla the cat within a 30 second clip of Eric Clapton's \"Layla\""
   ]
  },
  {
   "cell_type": "code",
   "execution_count": null,
   "id": "10e0e378",
   "metadata": {},
   "outputs": [],
   "source": [
    "%load_ext autoreload\n",
    "%autoreload 2\n",
    "import numpy as np\n",
    "import matplotlib.pyplot as plt\n",
    "import IPython.display as ipd\n",
    "import skimage.io\n",
    "import librosa\n",
    "\n",
    "import sys\n",
    "sys.path.append(\"..\")\n",
    "from imtools import *\n",
    "from stippletunes import *"
   ]
  },
  {
   "cell_type": "code",
   "execution_count": null,
   "id": "3f86ac78",
   "metadata": {},
   "outputs": [],
   "source": [
    "np.random.seed(0)\n",
    "I = skimage.io.imread(\"../images/layla.png\")\n",
    "thresh = 0.3\n",
    "canny_sigma = 4\n",
    "N = 100000\n",
    "\n",
    "weights = get_weights(I, thresh, canny_sigma=canny_sigma)\n",
    "X = voronoi_stipple(I, thresh, target_points=N, canny_sigma=canny_sigma)\n",
    "X = normalize_to_square(X, 1.2)\n",
    "\n",
    "plt.figure(figsize=(15, 15))\n",
    "plt.scatter(X[:, 0], X[:, 1], 1)"
   ]
  },
  {
   "cell_type": "code",
   "execution_count": null,
   "id": "a881a937",
   "metadata": {},
   "outputs": [],
   "source": [
    "## Step 2: Load in some audio\n",
    "sr = 44100\n",
    "y, sr = librosa.load('../sounds/layla.mp3', sr=sr, mono=True, offset=0.0, duration=None, dtype='float32')\n",
    "y -= np.mean(y)\n",
    "y /= np.max(np.abs(y))"
   ]
  },
  {
   "cell_type": "code",
   "execution_count": null,
   "id": "0a0b31ab",
   "metadata": {},
   "outputs": [],
   "source": [
    "import time\n",
    "n_angles = 60\n",
    "n_perwin = sr # Points per angle\n",
    "theta_win = 10\n",
    "tic = time.time()\n",
    "Z, path, errs = make_stipple_tune(X, y, n_angles, n_perwin, theta_win, 12)\n",
    "print(\"Elapsed Time: {:.3f}\".format(time.time()-tic))"
   ]
  },
  {
   "cell_type": "code",
   "execution_count": null,
   "id": "3f7a7798",
   "metadata": {},
   "outputs": [],
   "source": [
    "plt.figure(figsize=(15, 15))\n",
    "plt.scatter(Z[:, 0], Z[:, 1], 0.1)"
   ]
  },
  {
   "cell_type": "code",
   "execution_count": null,
   "id": "78bee5ea",
   "metadata": {},
   "outputs": [],
   "source": [
    "from scipy.io import wavfile\n",
    "samples = Z\n",
    "samples = np.array(samples*np.iinfo(np.int16).max, dtype=np.int16)\n",
    "samples = samples[0:sr*25, :]\n",
    "wavfile.write(\"layla.wav\", sr, samples)"
   ]
  },
  {
   "cell_type": "code",
   "execution_count": null,
   "id": "2855aff4",
   "metadata": {},
   "outputs": [],
   "source": [
    "plt.figure(figsize=(12, 4))\n",
    "plt.plot(path*360/n_angles)"
   ]
  },
  {
   "cell_type": "code",
   "execution_count": null,
   "id": "a816b42c",
   "metadata": {},
   "outputs": [],
   "source": [
    "plt.hist(errs, bins=20)\n",
    "print(np.mean(errs))\n",
    "plt.xlabel(\"Errors\")\n",
    "plt.ylabel(\"Counts\")"
   ]
  },
  {
   "cell_type": "code",
   "execution_count": null,
   "id": "bf775468",
   "metadata": {},
   "outputs": [],
   "source": []
  }
 ],
 "metadata": {
  "kernelspec": {
   "display_name": "Python 3 (ipykernel)",
   "language": "python",
   "name": "python3"
  },
  "language_info": {
   "codemirror_mode": {
    "name": "ipython",
    "version": 3
   },
   "file_extension": ".py",
   "mimetype": "text/x-python",
   "name": "python",
   "nbconvert_exporter": "python",
   "pygments_lexer": "ipython3",
   "version": "3.9.13"
  }
 },
 "nbformat": 4,
 "nbformat_minor": 5
}
